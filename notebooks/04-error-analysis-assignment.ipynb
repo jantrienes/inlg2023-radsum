{
 "cells": [
  {
   "cell_type": "markdown",
   "id": "194739a2",
   "metadata": {},
   "source": [
    "## Notebook Setup"
   ]
  },
  {
   "cell_type": "code",
   "execution_count": 1,
   "id": "752b1ab8",
   "metadata": {
    "ExecuteTime": {
     "end_time": "2023-04-27T08:59:03.379772Z",
     "start_time": "2023-04-27T08:58:58.340941Z"
    }
   },
   "outputs": [],
   "source": [
    "from pathlib import Path\n",
    "\n",
    "import pandas as pd\n",
    "import numpy as np\n",
    "\n",
    "from guidedsum.evaluation import load_summaries"
   ]
  },
  {
   "cell_type": "markdown",
   "id": "52234aa1",
   "metadata": {},
   "source": [
    "- Shuffle reports\n",
    "- Write tasks\n",
    "\n",
    "```\n",
    "{\n",
    "   \"id\": \"..\",\n",
    "   \"batch\": \"..\",\n",
    "   \"reference\": \"..\",\n",
    "   \"candidate0\": \"..\",\n",
    "   \"candidate1\": \"..\",\n",
    "   \"candidate2\": \"..\",\n",
    "   \"candidate3\": \"..\",\n",
    "   \"candidate_order\": [\n",
    "       \"candidate0\",\n",
    "       \"candidate1\",\n",
    "       \"candidate2\",\n",
    "       \"candidate3\",\n",
    "   ]\n",
    "}\n",
    "```"
   ]
  },
  {
   "cell_type": "markdown",
   "id": "ed1407d6",
   "metadata": {},
   "source": [
    "### Configuration"
   ]
  },
  {
   "cell_type": "markdown",
   "id": "b0408e61",
   "metadata": {},
   "source": [
    "Generate these files"
   ]
  },
  {
   "cell_type": "code",
   "execution_count": 2,
   "id": "980c706f",
   "metadata": {
    "ExecuteTime": {
     "end_time": "2023-04-27T08:59:03.389727Z",
     "start_time": "2023-04-27T08:59:03.383129Z"
    }
   },
   "outputs": [],
   "source": [
    "REPORTS_PATH = Path('../error-analysis/data/reports.json')\n",
    "DATABASE_PATH = Path('../error-analysis/data/assignments.xlsx')"
   ]
  },
  {
   "cell_type": "markdown",
   "id": "91aaeff9",
   "metadata": {},
   "source": [
    "## Prepare data"
   ]
  },
  {
   "cell_type": "code",
   "execution_count": 3,
   "id": "feef9285",
   "metadata": {
    "ExecuteTime": {
     "end_time": "2023-04-27T08:00:00.333897Z",
     "start_time": "2023-04-27T08:00:00.170646Z"
    }
   },
   "outputs": [],
   "source": [
    "!cp ../output/mimic-official-bg-oracle/gsum-default/model_step_best.txt ../output/mimic-official-bg-bertext-default-clip-threshold/gsum-default"
   ]
  },
  {
   "cell_type": "code",
   "execution_count": 4,
   "id": "50abbcb3",
   "metadata": {
    "ExecuteTime": {
     "end_time": "2023-04-27T08:00:00.347870Z",
     "start_time": "2023-04-27T08:00:00.340622Z"
    }
   },
   "outputs": [],
   "source": [
    "MODELS = [\n",
    "    ('bertabs', '../output/mimic-official-bg-unguided/bertabs-default/', ),\n",
    "    ('gsum_thresholding', '../output/mimic-official-bg-bertext-default-clip-threshold/gsum-default/'),\n",
    "    ('wgsum', '../output/mimic-official-bg-wgsum/wgsum-default/'),\n",
    "    ('wgsum+cl', '../output/mimic-official-bg-wgsum-cl/wgsum-cl-default//'),\n",
    "]\n",
    "MODEL_NAMES = [name for name, path in MODELS]"
   ]
  },
  {
   "cell_type": "markdown",
   "id": "df0b783e",
   "metadata": {},
   "source": [
    "### Load reference and candidates"
   ]
  },
  {
   "cell_type": "code",
   "execution_count": 5,
   "id": "7234be58",
   "metadata": {
    "ExecuteTime": {
     "end_time": "2023-04-27T08:00:00.413955Z",
     "start_time": "2023-04-27T08:00:00.354380Z"
    }
   },
   "outputs": [
    {
     "data": {
      "text/html": [
       "<div>\n",
       "<style scoped>\n",
       "    .dataframe tbody tr th:only-of-type {\n",
       "        vertical-align: middle;\n",
       "    }\n",
       "\n",
       "    .dataframe tbody tr th {\n",
       "        vertical-align: top;\n",
       "    }\n",
       "\n",
       "    .dataframe thead th {\n",
       "        text-align: right;\n",
       "    }\n",
       "</style>\n",
       "<table border=\"1\" class=\"dataframe\">\n",
       "  <thead>\n",
       "    <tr style=\"text-align: right;\">\n",
       "      <th></th>\n",
       "      <th>id</th>\n",
       "      <th>findings+bg</th>\n",
       "      <th>impression</th>\n",
       "    </tr>\n",
       "  </thead>\n",
       "  <tbody>\n",
       "    <tr>\n",
       "      <th>0</th>\n",
       "      <td>50010466</td>\n",
       "      <td>History:\\n_-year-old male with cough and histo...</td>\n",
       "      <td>No evidence of acute cardiopulmonary process.</td>\n",
       "    </tr>\n",
       "    <tr>\n",
       "      <th>1</th>\n",
       "      <td>50014127</td>\n",
       "      <td>Indication:\\n_-year-old male with HIV with sha...</td>\n",
       "      <td>Vague bibasilar opacities, which may represent...</td>\n",
       "    </tr>\n",
       "  </tbody>\n",
       "</table>\n",
       "</div>"
      ],
      "text/plain": [
       "         id                                        findings+bg  \\\n",
       "0  50010466  History:\\n_-year-old male with cough and histo...   \n",
       "1  50014127  Indication:\\n_-year-old male with HIV with sha...   \n",
       "\n",
       "                                          impression  \n",
       "0      No evidence of acute cardiopulmonary process.  \n",
       "1  Vague bibasilar opacities, which may represent...  "
      ]
     },
     "execution_count": 5,
     "metadata": {},
     "output_type": "execute_result"
    }
   ],
   "source": [
    "df_impression = pd.read_json('../data/processed/mimic-official/reports.test.json')\n",
    "df_impression = df_impression[['id', 'findings+bg', 'impression']]\n",
    "df_impression.head(2)"
   ]
  },
  {
   "cell_type": "code",
   "execution_count": 6,
   "id": "f6881ab6",
   "metadata": {
    "ExecuteTime": {
     "end_time": "2023-04-27T08:00:00.542491Z",
     "start_time": "2023-04-27T08:00:00.416986Z"
    }
   },
   "outputs": [
    {
     "data": {
      "text/html": [
       "<div>\n",
       "<style scoped>\n",
       "    .dataframe tbody tr th:only-of-type {\n",
       "        vertical-align: middle;\n",
       "    }\n",
       "\n",
       "    .dataframe tbody tr th {\n",
       "        vertical-align: top;\n",
       "    }\n",
       "\n",
       "    .dataframe thead th {\n",
       "        text-align: right;\n",
       "    }\n",
       "</style>\n",
       "<table border=\"1\" class=\"dataframe\">\n",
       "  <thead>\n",
       "    <tr style=\"text-align: right;\">\n",
       "      <th></th>\n",
       "      <th>bertabs</th>\n",
       "      <th>gsum_thresholding</th>\n",
       "      <th>wgsum</th>\n",
       "      <th>wgsum+cl</th>\n",
       "    </tr>\n",
       "  </thead>\n",
       "  <tbody>\n",
       "    <tr>\n",
       "      <th>0</th>\n",
       "      <td>no acute cardiopulmonary process.</td>\n",
       "      <td>no acute cardiopulmonary process.</td>\n",
       "      <td>no acute cardiopulmonary process.</td>\n",
       "      <td>no acute cardiopulmonary process.</td>\n",
       "    </tr>\n",
       "    <tr>\n",
       "      <th>1</th>\n",
       "      <td>vague bibasilar opacities are nonspecific but ...</td>\n",
       "      <td>vague bibasilar opacities are nonspecific but ...</td>\n",
       "      <td>vague bibasilar opacities, which may represent...</td>\n",
       "      <td>vague bibasilar opacities are nonspecific but ...</td>\n",
       "    </tr>\n",
       "  </tbody>\n",
       "</table>\n",
       "</div>"
      ],
      "text/plain": [
       "                                             bertabs  \\\n",
       "0                  no acute cardiopulmonary process.   \n",
       "1  vague bibasilar opacities are nonspecific but ...   \n",
       "\n",
       "                                   gsum_thresholding  \\\n",
       "0                  no acute cardiopulmonary process.   \n",
       "1  vague bibasilar opacities are nonspecific but ...   \n",
       "\n",
       "                                               wgsum  \\\n",
       "0                  no acute cardiopulmonary process.   \n",
       "1  vague bibasilar opacities, which may represent...   \n",
       "\n",
       "                                            wgsum+cl  \n",
       "0                  no acute cardiopulmonary process.  \n",
       "1  vague bibasilar opacities are nonspecific but ...  "
      ]
     },
     "execution_count": 6,
     "metadata": {},
     "output_type": "execute_result"
    }
   ],
   "source": [
    "def best_step(run_path):\n",
    "    run_path = Path(run_path)\n",
    "    try:\n",
    "        with open(run_path / 'model_step_best.txt') as fin:\n",
    "            return int(fin.read().strip())\n",
    "    except FileNotFoundError:\n",
    "        return -1\n",
    "\n",
    "\n",
    "def postprocess_candidate(s: str):\n",
    "    s = s.replace('<q>', ' ')\n",
    "    s = s.replace(' .', '.')\n",
    "    s = s.replace(' , ', ', ')\n",
    "    s = s.replace(\" 's\",  \"'s\")\n",
    "    s = s.replace(\" ' s\",  \"'s\")\n",
    "    s = s.replace(\" - \",  \"-\")\n",
    "    return s\n",
    "    \n",
    "\n",
    "\n",
    "runs = []\n",
    "\n",
    "for name, path in MODELS:\n",
    "    summaries = load_summaries(path, best_step(path))\n",
    "    summaries = summaries['candidate']\n",
    "    summaries = summaries.rename(name)    \n",
    "    summaries = summaries.apply(postprocess_candidate)\n",
    "    runs.append(summaries)\n",
    "    \n",
    "df_runs = pd.concat(runs, axis=1)\n",
    "df_runs.head(2)"
   ]
  },
  {
   "cell_type": "markdown",
   "id": "9943cb26",
   "metadata": {},
   "source": [
    "### Generate random display order and shuffle reports"
   ]
  },
  {
   "cell_type": "code",
   "execution_count": 7,
   "id": "e618211a",
   "metadata": {
    "ExecuteTime": {
     "end_time": "2023-04-27T08:00:00.544221Z",
     "start_time": "2023-04-27T08:00:00.544209Z"
    }
   },
   "outputs": [
    {
     "data": {
      "text/html": [
       "<div>\n",
       "<style scoped>\n",
       "    .dataframe tbody tr th:only-of-type {\n",
       "        vertical-align: middle;\n",
       "    }\n",
       "\n",
       "    .dataframe tbody tr th {\n",
       "        vertical-align: top;\n",
       "    }\n",
       "\n",
       "    .dataframe thead th {\n",
       "        text-align: right;\n",
       "    }\n",
       "</style>\n",
       "<table border=\"1\" class=\"dataframe\">\n",
       "  <thead>\n",
       "    <tr style=\"text-align: right;\">\n",
       "      <th></th>\n",
       "      <th>id</th>\n",
       "      <th>findings+bg</th>\n",
       "      <th>impression</th>\n",
       "      <th>order</th>\n",
       "      <th>candidate0</th>\n",
       "      <th>candidate1</th>\n",
       "      <th>candidate2</th>\n",
       "      <th>candidate3</th>\n",
       "    </tr>\n",
       "  </thead>\n",
       "  <tbody>\n",
       "    <tr>\n",
       "      <th>803</th>\n",
       "      <td>55187337</td>\n",
       "      <td>Comparison:\\n_.\\n\\nHistory:\\nLow-grade fever.\\...</td>\n",
       "      <td>New left lower lobe infiltrate and effusion.</td>\n",
       "      <td>[wgsum+cl, bertabs, wgsum, gsum_thresholding]</td>\n",
       "      <td>new left lower lobe infiltrate and small left ...</td>\n",
       "      <td>new left lower lobe infiltrate and effusion.</td>\n",
       "      <td>new left lower lobe infiltrate.</td>\n",
       "      <td>new left lower lobe infiltrate and small left ...</td>\n",
       "    </tr>\n",
       "    <tr>\n",
       "      <th>124</th>\n",
       "      <td>50848467</td>\n",
       "      <td>Indication:\\n_-year-old woman with fever, eval...</td>\n",
       "      <td>Slight increased hazy opacities at the right l...</td>\n",
       "      <td>[wgsum, bertabs, wgsum+cl, gsum_thresholding]</td>\n",
       "      <td>slightly increased hazy opacities at the right...</td>\n",
       "      <td>slightly increased hazy opacity at the right l...</td>\n",
       "      <td>slightly increased hazy opacities at the right...</td>\n",
       "      <td>slightly increased hazy opacities at the right...</td>\n",
       "    </tr>\n",
       "  </tbody>\n",
       "</table>\n",
       "</div>"
      ],
      "text/plain": [
       "           id                                        findings+bg  \\\n",
       "803  55187337  Comparison:\\n_.\\n\\nHistory:\\nLow-grade fever.\\...   \n",
       "124  50848467  Indication:\\n_-year-old woman with fever, eval...   \n",
       "\n",
       "                                            impression  \\\n",
       "803       New left lower lobe infiltrate and effusion.   \n",
       "124  Slight increased hazy opacities at the right l...   \n",
       "\n",
       "                                             order  \\\n",
       "803  [wgsum+cl, bertabs, wgsum, gsum_thresholding]   \n",
       "124  [wgsum, bertabs, wgsum+cl, gsum_thresholding]   \n",
       "\n",
       "                                            candidate0  \\\n",
       "803  new left lower lobe infiltrate and small left ...   \n",
       "124  slightly increased hazy opacities at the right...   \n",
       "\n",
       "                                            candidate1  \\\n",
       "803       new left lower lobe infiltrate and effusion.   \n",
       "124  slightly increased hazy opacity at the right l...   \n",
       "\n",
       "                                            candidate2  \\\n",
       "803                    new left lower lobe infiltrate.   \n",
       "124  slightly increased hazy opacities at the right...   \n",
       "\n",
       "                                            candidate3  \n",
       "803  new left lower lobe infiltrate and small left ...  \n",
       "124  slightly increased hazy opacities at the right...  "
      ]
     },
     "execution_count": 7,
     "metadata": {},
     "output_type": "execute_result"
    }
   ],
   "source": [
    "df_reports = pd.concat([df_impression, df_runs], axis=1)\n",
    "\n",
    "np.random.seed(42)\n",
    "def arrange_candidates(s):\n",
    "    order = np.random.choice(MODEL_NAMES, size=len(MODEL_NAMES), replace=False)\n",
    "    s['order'] = order\n",
    "    for i, model_name in enumerate(order):\n",
    "        s[f'candidate{i}'] = s[model_name]\n",
    "    return s\n",
    "\n",
    "# randomly order candidates and put them into separate columns (candidate0, candidate1 ...)\n",
    "df_reports = df_reports.apply(arrange_candidates, axis=1)\n",
    "# drop obsolete columns\n",
    "df_reports = df_reports[['id', 'findings+bg', 'impression', 'order'] + [f'candidate{i}' for i in range(len(MODEL_NAMES))]]\n",
    "# shuffle dataset\n",
    "df_reports = df_reports.sample(len(df_reports), random_state=42)\n",
    "df_reports.head(2)"
   ]
  },
  {
   "cell_type": "markdown",
   "id": "360aeb40",
   "metadata": {},
   "source": [
    "### Persist summaries and databse"
   ]
  },
  {
   "cell_type": "code",
   "execution_count": 8,
   "id": "46dd2f7a",
   "metadata": {
    "ExecuteTime": {
     "end_time": "2023-04-27T08:00:23.635843Z",
     "start_time": "2023-04-27T08:00:23.630126Z"
    }
   },
   "outputs": [],
   "source": [
    "from pathlib import Path"
   ]
  },
  {
   "cell_type": "code",
   "execution_count": 9,
   "id": "e9de350f",
   "metadata": {
    "ExecuteTime": {
     "end_time": "2023-04-27T08:00:24.075230Z",
     "start_time": "2023-04-27T08:00:24.064783Z"
    }
   },
   "outputs": [
    {
     "name": "stdout",
     "output_type": "stream",
     "text": [
      "Tasks file already exist, do not overwrite.\n",
      "Databse file already exist, do not overwrite.\n"
     ]
    }
   ],
   "source": [
    "## Reports: reference impression and candidates\n",
    "if REPORTS_PATH.is_file():\n",
    "    print('Tasks file already exist, do not overwrite.')\n",
    "else:\n",
    "    df_reports.to_json(REPORTS_PATH, orient='records')\n",
    "       \n",
    "\n",
    "## Assignment database\n",
    "if DATABASE_PATH.is_file():\n",
    "    print('Databse file already exist, do not overwrite.')\n",
    "else:   \n",
    "    df_database = df_reports[['id']].copy()\n",
    "    df_database['batch'] = None\n",
    "    df_database['a1'] = None\n",
    "    df_database['a2'] = None\n",
    "    df_database['a3'] = None\n",
    "    df_database = df_database.set_index('id')\n",
    "    df_database.to_excel(DATABASE_PATH)"
   ]
  },
  {
   "cell_type": "markdown",
   "id": "beefc5aa",
   "metadata": {},
   "source": [
    "## Generate Assignments"
   ]
  },
  {
   "cell_type": "markdown",
   "id": "469b3f7f",
   "metadata": {},
   "source": [
    "Use below function to generate pairings for a specific batch. Paste into excel sheet above and select `text to columns -> delimited -> commam`"
   ]
  },
  {
   "cell_type": "code",
   "execution_count": 10,
   "id": "8f7a27e8",
   "metadata": {
    "ExecuteTime": {
     "end_time": "2023-04-27T09:00:45.515501Z",
     "start_time": "2023-04-27T09:00:45.502825Z"
    },
    "scrolled": false
   },
   "outputs": [
    {
     "name": "stdout",
     "output_type": "stream",
     "text": [
      "Tasks per annotator\n",
      "Counter({'annotator5': 50,\n",
      "         'annotator4': 50,\n",
      "         'annotator2': 50,\n",
      "         'annotator3': 50,\n",
      "         'annotator1': 50,\n",
      "         'annotator6': 50})\n",
      "\n",
      "Assignments:\n",
      "\n",
      "batch2,annotator5,annotator4,annotator2\n",
      "batch2,annotator3,annotator1,annotator6\n",
      "batch2,annotator5,annotator3,annotator2\n",
      "batch2,annotator6,annotator4,annotator1\n",
      "batch2,annotator1,annotator4,annotator3\n",
      "batch2,annotator5,annotator6,annotator2\n",
      "batch2,annotator5,annotator6,annotator3\n",
      "batch2,annotator2,annotator1,annotator4\n",
      "batch2,annotator1,annotator4,annotator3\n",
      "batch2,annotator2,annotator5,annotator6\n",
      "batch2,annotator3,annotator1,annotator6\n",
      "batch2,annotator4,annotator2,annotator5\n",
      "batch2,annotator5,annotator3,annotator4\n",
      "batch2,annotator2,annotator6,annotator1\n",
      "batch2,annotator2,annotator3,annotator1\n",
      "batch2,annotator6,annotator4,annotator5\n",
      "batch2,annotator5,annotator1,annotator2\n",
      "batch2,annotator4,annotator6,annotator3\n",
      "batch2,annotator2,annotator5,annotator4\n",
      "batch2,annotator3,annotator1,annotator6\n",
      "batch2,annotator1,annotator4,annotator5\n",
      "batch2,annotator3,annotator6,annotator2\n",
      "batch2,annotator6,annotator1,annotator2\n",
      "batch2,annotator3,annotator4,annotator5\n",
      "batch2,annotator2,annotator3,annotator6\n",
      "batch2,annotator4,annotator1,annotator5\n",
      "batch2,annotator3,annotator6,annotator5\n",
      "batch2,annotator2,annotator4,annotator1\n",
      "batch2,annotator3,annotator5,annotator4\n",
      "batch2,annotator2,annotator6,annotator1\n",
      "batch2,annotator5,annotator6,annotator1\n",
      "batch2,annotator4,annotator3,annotator2\n",
      "batch2,annotator6,annotator4,annotator3\n",
      "batch2,annotator2,annotator5,annotator1\n",
      "batch2,annotator2,annotator3,annotator1\n",
      "batch2,annotator5,annotator4,annotator6\n",
      "batch2,annotator1,annotator2,annotator6\n",
      "batch2,annotator4,annotator5,annotator3\n",
      "batch2,annotator2,annotator3,annotator6\n",
      "batch2,annotator1,annotator5,annotator4\n",
      "batch2,annotator4,annotator2,annotator1\n",
      "batch2,annotator3,annotator6,annotator5\n",
      "batch2,annotator1,annotator3,annotator5\n",
      "batch2,annotator2,annotator6,annotator4\n",
      "batch2,annotator5,annotator3,annotator1\n",
      "batch2,annotator4,annotator2,annotator6\n",
      "batch2,annotator4,annotator6,annotator5\n",
      "batch2,annotator3,annotator2,annotator1\n",
      "batch2,annotator5,annotator6,annotator4\n",
      "batch2,annotator1,annotator2,annotator3\n",
      "batch2,annotator2,annotator4,annotator1\n",
      "batch2,annotator5,annotator6,annotator3\n",
      "batch2,annotator6,annotator4,annotator1\n",
      "batch2,annotator3,annotator2,annotator5\n",
      "batch2,annotator1,annotator5,annotator4\n",
      "batch2,annotator3,annotator6,annotator2\n",
      "batch2,annotator1,annotator2,annotator6\n",
      "batch2,annotator5,annotator4,annotator3\n",
      "batch2,annotator2,annotator4,annotator5\n",
      "batch2,annotator1,annotator6,annotator3\n",
      "batch2,annotator2,annotator4,annotator5\n",
      "batch2,annotator3,annotator1,annotator6\n",
      "batch2,annotator5,annotator4,annotator3\n",
      "batch2,annotator1,annotator6,annotator2\n",
      "batch2,annotator3,annotator5,annotator1\n",
      "batch2,annotator2,annotator4,annotator6\n",
      "batch2,annotator4,annotator3,annotator2\n",
      "batch2,annotator6,annotator5,annotator1\n",
      "batch2,annotator6,annotator2,annotator4\n",
      "batch2,annotator3,annotator1,annotator5\n",
      "batch2,annotator3,annotator1,annotator6\n",
      "batch2,annotator2,annotator4,annotator5\n",
      "batch2,annotator3,annotator2,annotator5\n",
      "batch2,annotator4,annotator1,annotator6\n",
      "batch2,annotator4,annotator6,annotator5\n",
      "batch2,annotator2,annotator1,annotator3\n",
      "batch2,annotator4,annotator3,annotator1\n",
      "batch2,annotator2,annotator6,annotator5\n",
      "batch2,annotator3,annotator6,annotator2\n",
      "batch2,annotator1,annotator4,annotator5\n",
      "batch2,annotator3,annotator1,annotator6\n",
      "batch2,annotator5,annotator4,annotator2\n",
      "batch2,annotator3,annotator2,annotator4\n",
      "batch2,annotator6,annotator5,annotator1\n",
      "batch2,annotator5,annotator4,annotator2\n",
      "batch2,annotator6,annotator1,annotator3\n",
      "batch2,annotator3,annotator5,annotator1\n",
      "batch2,annotator6,annotator2,annotator4\n",
      "batch2,annotator6,annotator4,annotator2\n",
      "batch2,annotator5,annotator3,annotator1\n",
      "batch2,annotator1,annotator2,annotator4\n",
      "batch2,annotator5,annotator6,annotator3\n",
      "batch2,annotator3,annotator5,annotator6\n",
      "batch2,annotator1,annotator2,annotator4\n",
      "batch2,annotator3,annotator4,annotator6\n",
      "batch2,annotator2,annotator1,annotator5\n",
      "batch2,annotator2,annotator6,annotator3\n",
      "batch2,annotator5,annotator1,annotator4\n",
      "batch2,annotator3,annotator2,annotator6\n",
      "batch2,annotator5,annotator1,annotator4\n"
     ]
    }
   ],
   "source": [
    "from collections import Counter\n",
    "import random\n",
    "from pprint import pprint\n",
    "\n",
    "# Configuration\n",
    "N_TASKS = 100\n",
    "N_ANNOTATORS_PER_TASK = 3\n",
    "ANNOTATORS = [\n",
    "    'annotator1',\n",
    "    'annotator2',\n",
    "    'annotator3',\n",
    "    'annotator4',\n",
    "    'annotator5',\n",
    "    'annotator6',\n",
    "]\n",
    "BATCH = 'batch2'\n",
    "\n",
    "# Generate assignments\n",
    "stack = ANNOTATORS.copy()\n",
    "random.shuffle(stack)\n",
    "\n",
    "tasks = []\n",
    "for _ in range(N_TASKS):\n",
    "    task = []\n",
    "    for _ in range(N_ANNOTATORS_PER_TASK):\n",
    "        task.append(stack.pop())\n",
    "        \n",
    "        if len(stack) == 0:\n",
    "            # refill\n",
    "            stack = ANNOTATORS.copy()\n",
    "            random.shuffle(stack)\n",
    "            \n",
    "    tasks.append(task)\n",
    "    \n",
    "# Print number of tasks per annotator\n",
    "print('Tasks per annotator')\n",
    "pprint(Counter(a for task in tasks for a in task))\n",
    "print()\n",
    "\n",
    "print('Assignments:\\n')\n",
    "for assignment in tasks:\n",
    "    print(f'{BATCH},'+ ','.join(assignment))"
   ]
  },
  {
   "cell_type": "markdown",
   "id": "f5d8acfa",
   "metadata": {},
   "source": [
    "## Load preprocessed data"
   ]
  },
  {
   "cell_type": "code",
   "execution_count": 11,
   "id": "fa05657a",
   "metadata": {
    "ExecuteTime": {
     "end_time": "2023-04-27T09:00:49.703084Z",
     "start_time": "2023-04-27T09:00:49.601419Z"
    }
   },
   "outputs": [
    {
     "data": {
      "text/html": [
       "<div>\n",
       "<style scoped>\n",
       "    .dataframe tbody tr th:only-of-type {\n",
       "        vertical-align: middle;\n",
       "    }\n",
       "\n",
       "    .dataframe tbody tr th {\n",
       "        vertical-align: top;\n",
       "    }\n",
       "\n",
       "    .dataframe thead th {\n",
       "        text-align: right;\n",
       "    }\n",
       "</style>\n",
       "<table border=\"1\" class=\"dataframe\">\n",
       "  <thead>\n",
       "    <tr style=\"text-align: right;\">\n",
       "      <th></th>\n",
       "      <th>study_id</th>\n",
       "      <th>findings+bg</th>\n",
       "      <th>impression</th>\n",
       "      <th>order</th>\n",
       "      <th>candidate0</th>\n",
       "      <th>candidate1</th>\n",
       "      <th>candidate2</th>\n",
       "      <th>candidate3</th>\n",
       "    </tr>\n",
       "  </thead>\n",
       "  <tbody>\n",
       "    <tr>\n",
       "      <th>0</th>\n",
       "      <td>55187337</td>\n",
       "      <td>Comparison:\\n_.\\n\\nHistory:\\nLow-grade fever.\\...</td>\n",
       "      <td>New left lower lobe infiltrate and effusion.</td>\n",
       "      <td>[wgsum+cl, bertabs, wgsum, gsum_thresholding]</td>\n",
       "      <td>new left lower lobe infiltrate and small left ...</td>\n",
       "      <td>new left lower lobe infiltrate and effusion.</td>\n",
       "      <td>new left lower lobe infiltrate.</td>\n",
       "      <td>new left lower lobe infiltrate and small left ...</td>\n",
       "    </tr>\n",
       "    <tr>\n",
       "      <th>1</th>\n",
       "      <td>50848467</td>\n",
       "      <td>Indication:\\n_-year-old woman with fever, eval...</td>\n",
       "      <td>Slight increased hazy opacities at the right l...</td>\n",
       "      <td>[wgsum, bertabs, wgsum+cl, gsum_thresholding]</td>\n",
       "      <td>slightly increased hazy opacities at the right...</td>\n",
       "      <td>slightly increased hazy opacity at the right l...</td>\n",
       "      <td>slightly increased hazy opacities at the right...</td>\n",
       "      <td>slightly increased hazy opacities at the right...</td>\n",
       "    </tr>\n",
       "  </tbody>\n",
       "</table>\n",
       "</div>"
      ],
      "text/plain": [
       "   study_id                                        findings+bg  \\\n",
       "0  55187337  Comparison:\\n_.\\n\\nHistory:\\nLow-grade fever.\\...   \n",
       "1  50848467  Indication:\\n_-year-old woman with fever, eval...   \n",
       "\n",
       "                                          impression  \\\n",
       "0       New left lower lobe infiltrate and effusion.   \n",
       "1  Slight increased hazy opacities at the right l...   \n",
       "\n",
       "                                           order  \\\n",
       "0  [wgsum+cl, bertabs, wgsum, gsum_thresholding]   \n",
       "1  [wgsum, bertabs, wgsum+cl, gsum_thresholding]   \n",
       "\n",
       "                                          candidate0  \\\n",
       "0  new left lower lobe infiltrate and small left ...   \n",
       "1  slightly increased hazy opacities at the right...   \n",
       "\n",
       "                                          candidate1  \\\n",
       "0       new left lower lobe infiltrate and effusion.   \n",
       "1  slightly increased hazy opacity at the right l...   \n",
       "\n",
       "                                          candidate2  \\\n",
       "0                    new left lower lobe infiltrate.   \n",
       "1  slightly increased hazy opacities at the right...   \n",
       "\n",
       "                                          candidate3  \n",
       "0  new left lower lobe infiltrate and small left ...  \n",
       "1  slightly increased hazy opacities at the right...  "
      ]
     },
     "metadata": {},
     "output_type": "display_data"
    },
    {
     "data": {
      "text/html": [
       "<div>\n",
       "<style scoped>\n",
       "    .dataframe tbody tr th:only-of-type {\n",
       "        vertical-align: middle;\n",
       "    }\n",
       "\n",
       "    .dataframe tbody tr th {\n",
       "        vertical-align: top;\n",
       "    }\n",
       "\n",
       "    .dataframe thead th {\n",
       "        text-align: right;\n",
       "    }\n",
       "</style>\n",
       "<table border=\"1\" class=\"dataframe\">\n",
       "  <thead>\n",
       "    <tr style=\"text-align: right;\">\n",
       "      <th></th>\n",
       "      <th>study_id</th>\n",
       "      <th>batch</th>\n",
       "      <th>a1</th>\n",
       "      <th>a2</th>\n",
       "      <th>a3</th>\n",
       "    </tr>\n",
       "  </thead>\n",
       "  <tbody>\n",
       "    <tr>\n",
       "      <th>0</th>\n",
       "      <td>55187337</td>\n",
       "      <td>batch0</td>\n",
       "      <td>all</td>\n",
       "      <td>all</td>\n",
       "      <td>NaN</td>\n",
       "    </tr>\n",
       "    <tr>\n",
       "      <th>1</th>\n",
       "      <td>50848467</td>\n",
       "      <td>batch0</td>\n",
       "      <td>all</td>\n",
       "      <td>all</td>\n",
       "      <td>NaN</td>\n",
       "    </tr>\n",
       "  </tbody>\n",
       "</table>\n",
       "</div>"
      ],
      "text/plain": [
       "   study_id   batch   a1   a2   a3\n",
       "0  55187337  batch0  all  all  NaN\n",
       "1  50848467  batch0  all  all  NaN"
      ]
     },
     "metadata": {},
     "output_type": "display_data"
    }
   ],
   "source": [
    "df = pd.read_json(REPORTS_PATH).rename({'id': 'study_id'}, axis=1)\n",
    "database = pd.read_excel(DATABASE_PATH).rename({'id': 'study_id'}, axis=1)\n",
    "\n",
    "display(df.head(2))\n",
    "display(database.head(2))"
   ]
  },
  {
   "cell_type": "code",
   "execution_count": 12,
   "id": "3f8ac11f",
   "metadata": {
    "ExecuteTime": {
     "end_time": "2023-04-27T09:00:54.235561Z",
     "start_time": "2023-04-27T09:00:54.145472Z"
    }
   },
   "outputs": [
    {
     "name": "stdout",
     "output_type": "stream",
     "text": [
      "annotator1         batch0 tasks = 10\n",
      "annotator2         batch0 tasks = 10\n",
      "annotator3         batch0 tasks = 10\n",
      "annotator4         batch0 tasks = 10\n",
      "annotator5         batch0 tasks = 10\n",
      "annotator6         batch0 tasks = 10\n",
      "annotator1         batch1 tasks = 10\n",
      "annotator2         batch1 tasks = 10\n",
      "annotator3         batch1 tasks = 10\n",
      "annotator4         batch1 tasks = 10\n",
      "annotator5         batch1 tasks = 10\n",
      "annotator6         batch1 tasks = 10\n",
      "annotator1         batch2 tasks = 50\n",
      "annotator2         batch2 tasks = 50\n",
      "annotator3         batch2 tasks = 50\n",
      "annotator4         batch2 tasks = 50\n",
      "annotator5         batch2 tasks = 50\n",
      "annotator6         batch2 tasks = 50\n"
     ]
    }
   ],
   "source": [
    "out_path = Path('../data/interim/error-analysis-tasks/')\n",
    "batches = database['batch'].dropna().unique()\n",
    "\n",
    "for batch in batches:\n",
    "    for annotator in ANNOTATORS:\n",
    "        mask = (database['batch'] == batch) & (\n",
    "            database['a1'].isin([annotator, 'all']) \n",
    "            | database['a2'].isin([annotator, 'all'])\n",
    "            | database['a3'].isin([annotator, 'all'])\n",
    "        )\n",
    "        \n",
    "        print(f'{annotator:<18} {batch} tasks = {sum(mask)}')\n",
    "        \n",
    "        batch_ids = database[mask]['study_id']\n",
    "        \n",
    "        out_file = out_path / f'{batch}-{annotator}-tasks.json'\n",
    "        out_file.parent.mkdir(exist_ok=True, parents=True)\n",
    "        \n",
    "        tasks = df[df['study_id'].isin(batch_ids)].copy()\n",
    "        tasks['batch'] = batch\n",
    "        tasks.to_json(out_file, orient='records')"
   ]
  }
 ],
 "metadata": {
  "hide_input": false,
  "kernelspec": {
   "display_name": "Python 3 (ipykernel)",
   "language": "python",
   "name": "python3"
  },
  "language_info": {
   "codemirror_mode": {
    "name": "ipython",
    "version": 3
   },
   "file_extension": ".py",
   "mimetype": "text/x-python",
   "name": "python",
   "nbconvert_exporter": "python",
   "pygments_lexer": "ipython3",
   "version": "3.8.10"
  },
  "toc": {
   "base_numbering": 1,
   "nav_menu": {},
   "number_sections": true,
   "sideBar": true,
   "skip_h1_title": false,
   "title_cell": "Table of Contents",
   "title_sidebar": "Contents",
   "toc_cell": false,
   "toc_position": {},
   "toc_section_display": true,
   "toc_window_display": false
  }
 },
 "nbformat": 4,
 "nbformat_minor": 5
}
