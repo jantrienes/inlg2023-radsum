{
 "cells": [
  {
   "cell_type": "markdown",
   "id": "0b6da718",
   "metadata": {},
   "source": [
    "## Notebook Setup"
   ]
  },
  {
   "cell_type": "markdown",
   "id": "a82bc04a",
   "metadata": {
    "ExecuteTime": {
     "end_time": "2022-05-19T12:12:16.966468Z",
     "start_time": "2022-05-19T12:12:16.963220Z"
    }
   },
   "source": [
    "magic cell that declares `\\bm{}` latex macro.\n",
    "$\\newcommand{\\bm}[1]{{\\mathbf{\\boldsymbol{{#1}}}}}$"
   ]
  },
  {
   "cell_type": "code",
   "execution_count": 1,
   "id": "b62d0a65",
   "metadata": {
    "ExecuteTime": {
     "end_time": "2022-06-11T14:42:24.459597Z",
     "start_time": "2022-06-11T14:42:24.452942Z"
    }
   },
   "outputs": [],
   "source": [
    "import re\n",
    "from pathlib import Path\n",
    "\n",
    "import pandas as pd\n",
    "import numpy as np\n",
    "from tqdm.auto import tqdm\n",
    "tqdm.pandas()"
   ]
  },
  {
   "cell_type": "code",
   "execution_count": 2,
   "id": "9aa1e53f",
   "metadata": {
    "ExecuteTime": {
     "end_time": "2023-05-31T12:56:02.055640Z",
     "start_time": "2023-05-31T12:55:56.141994Z"
    }
   },
   "outputs": [],
   "source": [
    "from guidedsum.evaluation import calculate_statistics, calculate_rouge, load_summaries\n",
    "from guidedsum.guidance.extractive_guidance import greedy_selection, greedy_selection_parallel\n",
    "\n",
    "from guidedsum.utils import display_sample"
   ]
  },
  {
   "cell_type": "markdown",
   "id": "20e182f5",
   "metadata": {},
   "source": [
    "## Summary statistics"
   ]
  },
  {
   "cell_type": "markdown",
   "id": "a375ed8c",
   "metadata": {},
   "source": [
    "### Calculate stats for each dataset"
   ]
  },
  {
   "cell_type": "code",
   "execution_count": 3,
   "id": "fd3a58b9",
   "metadata": {},
   "outputs": [],
   "source": [
    "def dataset_statistics(dataset_path, name):\n",
    "    dataset_path = Path(dataset_path)\n",
    "    df_train =  pd.read_json(dataset_path / \"reports.train.json\").assign(split='train')\n",
    "    df_valid = pd.read_json(dataset_path / \"reports.valid.json\").assign(split='valid')\n",
    "    df_test = pd.read_json(dataset_path / \"reports.test.json\").assign(split='test')\n",
    "\n",
    "    df = pd.concat([df_train, df_valid, df_test], ignore_index=True)    \n",
    "    src = df['src'].apply(lambda sents: '<q>'.join((' '.join(sent) for sent in sents)))\n",
    "    tgt = df['tgt'].apply(lambda sents: '<q>'.join((' '.join(sent) for sent in sents)))\n",
    "\n",
    "    stats_all = calculate_statistics(tqdm(src), tgt)\n",
    "    stats = stats_all.mean()\n",
    "    stats['n_train'] = len(df_train)\n",
    "    stats['n_valid'] = len(df_valid)\n",
    "    stats['n_test'] = len(df_test)\n",
    "    stats['n'] = len(df)\n",
    "    \n",
    "    n_docs = '{:,d}/{:,d}/{:,d}'.format(\n",
    "        int(stats['n_train']),\n",
    "        int(stats['n_valid']),\n",
    "        int(stats['n_test'])\n",
    "    )\n",
    "    stats['docs'] = n_docs\n",
    "    stats['novelty_uni'] = stats['novelty_uni'] * 100\n",
    "    stats['novelty_bi'] = stats['novelty_bi'] * 100\n",
    "    stats['cmp_w'] = stats['cmp_w'] * 100\n",
    "    stats['cmp_s'] = stats['cmp_s'] * 100\n",
    "\n",
    "    \n",
    "    std = stats_all.agg('std').add_suffix('_std')\n",
    "    stats = stats.append(std)\n",
    "    stats = stats.rename(name)\n",
    "    \n",
    "    stats_by_split = stats_all.groupby(df['split']).mean()\n",
    "    \n",
    "    return stats, stats_by_split"
   ]
  },
  {
   "cell_type": "code",
   "execution_count": 4,
   "id": "de906ce8",
   "metadata": {},
   "outputs": [
    {
     "data": {
      "application/vnd.jupyter.widget-view+json": {
       "model_id": "4f289515fc2142b2aea1baf9814b0742",
       "version_major": 2,
       "version_minor": 0
      },
      "text/plain": [
       "  0%|          | 0/125061 [00:00<?, ?it/s]"
      ]
     },
     "metadata": {},
     "output_type": "display_data"
    },
    {
     "data": {
      "application/vnd.jupyter.widget-view+json": {
       "model_id": "7816d052757a4ae8921c852e1deb9de7",
       "version_major": 2,
       "version_minor": 0
      },
      "text/plain": [
       "  0%|          | 0/125061 [00:00<?, ?it/s]"
      ]
     },
     "metadata": {},
     "output_type": "display_data"
    },
    {
     "data": {
      "application/vnd.jupyter.widget-view+json": {
       "model_id": "d3537408117c4c39874211437635b4df",
       "version_major": 2,
       "version_minor": 0
      },
      "text/plain": [
       "  0%|          | 0/3346 [00:00<?, ?it/s]"
      ]
     },
     "metadata": {},
     "output_type": "display_data"
    },
    {
     "data": {
      "application/vnd.jupyter.widget-view+json": {
       "model_id": "d42115a4ff654f2d8ced4d5e4ae12396",
       "version_major": 2,
       "version_minor": 0
      },
      "text/plain": [
       "  0%|          | 0/3346 [00:00<?, ?it/s]"
      ]
     },
     "metadata": {},
     "output_type": "display_data"
    }
   ],
   "source": [
    "# MIMIC-OFFICIAL\n",
    "stats_mimic_official, stats_mimic_official_by_split = dataset_statistics(\n",
    "    dataset_path=\"../data/processed/mimic-official-unguided/\",\n",
    "    name=\"mimic-official\",\n",
    ")\n",
    "\n",
    "# MIMIC-OFFICIAL-BG\n",
    "stats_mimic_official_bg, stats_mimic_official_bg_by_split = dataset_statistics(\n",
    "    dataset_path=\"../data/processed/mimic-official-bg-unguided/\",\n",
    "    name=\"mimic-official-bg\",\n",
    ")\n",
    "\n",
    "# OpenI\n",
    "stats_openi, stats_openi_by_split = dataset_statistics(\n",
    "    dataset_path=\"../data/processed/openi-unguided/\",\n",
    "    name=\"openi\",\n",
    ")\n",
    "\n",
    "# OpenI-BG\n",
    "stats_openi_bg, stats_openi_bg_by_split = dataset_statistics(\n",
    "    dataset_path=\"../data/processed/openi-bg-unguided/\",\n",
    "    name=\"openi-bg\",\n",
    ")"
   ]
  },
  {
   "cell_type": "markdown",
   "id": "1b2191ce",
   "metadata": {},
   "source": [
    "### Combine datasets"
   ]
  },
  {
   "cell_type": "code",
   "execution_count": 5,
   "id": "8fa73d39",
   "metadata": {
    "ExecuteTime": {
     "end_time": "2022-06-11T14:48:45.134545Z",
     "start_time": "2022-06-11T14:48:45.110466Z"
    }
   },
   "outputs": [
    {
     "data": {
      "text/html": [
       "<div>\n",
       "<style scoped>\n",
       "    .dataframe tbody tr th:only-of-type {\n",
       "        vertical-align: middle;\n",
       "    }\n",
       "\n",
       "    .dataframe tbody tr th {\n",
       "        vertical-align: top;\n",
       "    }\n",
       "\n",
       "    .dataframe thead th {\n",
       "        text-align: right;\n",
       "    }\n",
       "</style>\n",
       "<table border=\"1\" class=\"dataframe\">\n",
       "  <thead>\n",
       "    <tr style=\"text-align: right;\">\n",
       "      <th></th>\n",
       "      <th>n_words_doc</th>\n",
       "      <th>n_sents_doc</th>\n",
       "      <th>n_words_summary</th>\n",
       "      <th>n_sents_summary</th>\n",
       "      <th>cmp_w</th>\n",
       "      <th>cmp_s</th>\n",
       "      <th>novelty_uni</th>\n",
       "      <th>novelty_bi</th>\n",
       "      <th>n</th>\n",
       "      <th>docs</th>\n",
       "      <th>n_words_doc_std</th>\n",
       "      <th>n_sents_doc_std</th>\n",
       "      <th>n_words_summary_std</th>\n",
       "      <th>n_sents_summary_std</th>\n",
       "      <th>cmp_w_std</th>\n",
       "      <th>cmp_s_std</th>\n",
       "      <th>novelty_uni_std</th>\n",
       "      <th>novelty_bi_std</th>\n",
       "    </tr>\n",
       "  </thead>\n",
       "  <tbody>\n",
       "    <tr>\n",
       "      <th>mimic-official</th>\n",
       "      <td>56.070270</td>\n",
       "      <td>5.479558</td>\n",
       "      <td>15.098144</td>\n",
       "      <td>1.606328</td>\n",
       "      <td>73.771076</td>\n",
       "      <td>68.674235</td>\n",
       "      <td>47.432424</td>\n",
       "      <td>73.392954</td>\n",
       "      <td>125061</td>\n",
       "      <td>122,500/963/1,598</td>\n",
       "      <td>25.184872</td>\n",
       "      <td>1.870711</td>\n",
       "      <td>13.493695</td>\n",
       "      <td>0.893279</td>\n",
       "      <td>0.175122</td>\n",
       "      <td>0.170616</td>\n",
       "      <td>0.269221</td>\n",
       "      <td>0.268636</td>\n",
       "    </tr>\n",
       "    <tr>\n",
       "      <th>mimic-official-bg</th>\n",
       "      <td>87.096257</td>\n",
       "      <td>7.475520</td>\n",
       "      <td>15.098144</td>\n",
       "      <td>1.606328</td>\n",
       "      <td>83.517694</td>\n",
       "      <td>77.390005</td>\n",
       "      <td>42.482523</td>\n",
       "      <td>72.296663</td>\n",
       "      <td>125061</td>\n",
       "      <td>122,500/963/1,598</td>\n",
       "      <td>28.744373</td>\n",
       "      <td>2.208604</td>\n",
       "      <td>13.493695</td>\n",
       "      <td>0.893279</td>\n",
       "      <td>0.118171</td>\n",
       "      <td>0.125023</td>\n",
       "      <td>0.265856</td>\n",
       "      <td>0.269975</td>\n",
       "    </tr>\n",
       "    <tr>\n",
       "      <th>openi</th>\n",
       "      <td>37.537657</td>\n",
       "      <td>4.642857</td>\n",
       "      <td>8.928273</td>\n",
       "      <td>1.426778</td>\n",
       "      <td>76.145868</td>\n",
       "      <td>67.877095</td>\n",
       "      <td>59.835063</td>\n",
       "      <td>86.823445</td>\n",
       "      <td>3346</td>\n",
       "      <td>2,342/334/670</td>\n",
       "      <td>16.410520</td>\n",
       "      <td>1.641777</td>\n",
       "      <td>8.078442</td>\n",
       "      <td>0.819158</td>\n",
       "      <td>0.146910</td>\n",
       "      <td>0.153252</td>\n",
       "      <td>0.277196</td>\n",
       "      <td>0.206821</td>\n",
       "    </tr>\n",
       "    <tr>\n",
       "      <th>openi-bg</th>\n",
       "      <td>53.610580</td>\n",
       "      <td>5.853556</td>\n",
       "      <td>8.928273</td>\n",
       "      <td>1.426778</td>\n",
       "      <td>83.683191</td>\n",
       "      <td>74.511569</td>\n",
       "      <td>56.526555</td>\n",
       "      <td>86.654419</td>\n",
       "      <td>3346</td>\n",
       "      <td>2,342/334/670</td>\n",
       "      <td>18.992954</td>\n",
       "      <td>2.002408</td>\n",
       "      <td>8.078442</td>\n",
       "      <td>0.819158</td>\n",
       "      <td>0.105881</td>\n",
       "      <td>0.121462</td>\n",
       "      <td>0.276696</td>\n",
       "      <td>0.207707</td>\n",
       "    </tr>\n",
       "  </tbody>\n",
       "</table>\n",
       "</div>"
      ],
      "text/plain": [
       "                   n_words_doc  n_sents_doc  n_words_summary  n_sents_summary  \\\n",
       "mimic-official       56.070270     5.479558        15.098144         1.606328   \n",
       "mimic-official-bg    87.096257     7.475520        15.098144         1.606328   \n",
       "openi                37.537657     4.642857         8.928273         1.426778   \n",
       "openi-bg             53.610580     5.853556         8.928273         1.426778   \n",
       "\n",
       "                       cmp_w      cmp_s  novelty_uni  novelty_bi       n  \\\n",
       "mimic-official     73.771076  68.674235    47.432424   73.392954  125061   \n",
       "mimic-official-bg  83.517694  77.390005    42.482523   72.296663  125061   \n",
       "openi              76.145868  67.877095    59.835063   86.823445    3346   \n",
       "openi-bg           83.683191  74.511569    56.526555   86.654419    3346   \n",
       "\n",
       "                                docs  n_words_doc_std  n_sents_doc_std  \\\n",
       "mimic-official     122,500/963/1,598        25.184872         1.870711   \n",
       "mimic-official-bg  122,500/963/1,598        28.744373         2.208604   \n",
       "openi                  2,342/334/670        16.410520         1.641777   \n",
       "openi-bg               2,342/334/670        18.992954         2.002408   \n",
       "\n",
       "                   n_words_summary_std  n_sents_summary_std  cmp_w_std  \\\n",
       "mimic-official               13.493695             0.893279   0.175122   \n",
       "mimic-official-bg            13.493695             0.893279   0.118171   \n",
       "openi                         8.078442             0.819158   0.146910   \n",
       "openi-bg                      8.078442             0.819158   0.105881   \n",
       "\n",
       "                   cmp_s_std  novelty_uni_std  novelty_bi_std  \n",
       "mimic-official      0.170616         0.269221        0.268636  \n",
       "mimic-official-bg   0.125023         0.265856        0.269975  \n",
       "openi               0.153252         0.277196        0.206821  \n",
       "openi-bg            0.121462         0.276696        0.207707  "
      ]
     },
     "execution_count": 5,
     "metadata": {},
     "output_type": "execute_result"
    }
   ],
   "source": [
    "stats = [\n",
    "    stats_mimic_official,\n",
    "    stats_mimic_official_bg,\n",
    "    stats_openi,\n",
    "    stats_openi_bg\n",
    "]\n",
    "\n",
    "df_stats = pd.DataFrame(stats)\n",
    "df_stats = df_stats.drop(['n_train', 'n_valid', 'n_test'], axis=1)\n",
    "df_stats['n'] = df_stats['n'].astype(int)\n",
    "df_stats"
   ]
  },
  {
   "cell_type": "markdown",
   "id": "951edfe0",
   "metadata": {},
   "source": [
    "### Paper table"
   ]
  },
  {
   "cell_type": "markdown",
   "id": "0e5791df",
   "metadata": {},
   "source": [
    "Render latex version for inclusion in paper (statistics without the background section)."
   ]
  },
  {
   "cell_type": "code",
   "execution_count": 6,
   "id": "bf67a7fa",
   "metadata": {
    "ExecuteTime": {
     "end_time": "2022-06-11T14:48:45.166123Z",
     "start_time": "2022-06-11T14:48:45.135685Z"
    }
   },
   "outputs": [
    {
     "data": {
      "text/html": [
       "<div>\n",
       "<style scoped>\n",
       "    .dataframe tbody tr th:only-of-type {\n",
       "        vertical-align: middle;\n",
       "    }\n",
       "\n",
       "    .dataframe tbody tr th {\n",
       "        vertical-align: top;\n",
       "    }\n",
       "\n",
       "    .dataframe thead th {\n",
       "        text-align: right;\n",
       "    }\n",
       "</style>\n",
       "<table border=\"1\" class=\"dataframe\">\n",
       "  <thead>\n",
       "    <tr style=\"text-align: right;\">\n",
       "      <th></th>\n",
       "      <th>MIMIC-CXR</th>\n",
       "      <th>OpenI</th>\n",
       "    </tr>\n",
       "  </thead>\n",
       "  <tbody>\n",
       "    <tr>\n",
       "      <th>Reports</th>\n",
       "      <td>122,500/963/1,598</td>\n",
       "      <td>2,342/334/670</td>\n",
       "    </tr>\n",
       "    <tr>\n",
       "      <th>Avg. $|x|_{t}$</th>\n",
       "      <td>56 {\\color{gray} $\\pm$ 25.2}</td>\n",
       "      <td>37 {\\color{gray} $\\pm$ 16.4}</td>\n",
       "    </tr>\n",
       "    <tr>\n",
       "      <th>Avg. $|x|_{s}$</th>\n",
       "      <td>5.5 {\\color{gray} $\\pm$ 1.9}</td>\n",
       "      <td>4.6 {\\color{gray} $\\pm$ 1.6}</td>\n",
       "    </tr>\n",
       "    <tr>\n",
       "      <th>Avg. $|y|_{t}$</th>\n",
       "      <td>15 {\\color{gray} $\\pm$ 13.5}</td>\n",
       "      <td>8 {\\color{gray} $\\pm$ 8.1}</td>\n",
       "    </tr>\n",
       "    <tr>\n",
       "      <th>Avg. $|y|_{s}$</th>\n",
       "      <td>1.6 {\\color{gray} $\\pm$ 0.9}</td>\n",
       "      <td>1.4 {\\color{gray} $\\pm$ 0.8}</td>\n",
       "    </tr>\n",
       "    <tr>\n",
       "      <th>Novelty</th>\n",
       "      <td>73.4%</td>\n",
       "      <td>86.8%</td>\n",
       "    </tr>\n",
       "    <tr>\n",
       "      <th>CMP</th>\n",
       "      <td>73.8%</td>\n",
       "      <td>76.1%</td>\n",
       "    </tr>\n",
       "  </tbody>\n",
       "</table>\n",
       "</div>"
      ],
      "text/plain": [
       "                                   MIMIC-CXR                         OpenI\n",
       "Reports                    122,500/963/1,598                 2,342/334/670\n",
       "Avg. $|x|_{t}$  56 {\\color{gray} $\\pm$ 25.2}  37 {\\color{gray} $\\pm$ 16.4}\n",
       "Avg. $|x|_{s}$  5.5 {\\color{gray} $\\pm$ 1.9}  4.6 {\\color{gray} $\\pm$ 1.6}\n",
       "Avg. $|y|_{t}$  15 {\\color{gray} $\\pm$ 13.5}    8 {\\color{gray} $\\pm$ 8.1}\n",
       "Avg. $|y|_{s}$  1.6 {\\color{gray} $\\pm$ 0.9}  1.4 {\\color{gray} $\\pm$ 0.8}\n",
       "Novelty                                73.4%                         86.8%\n",
       "CMP                                    73.8%                         76.1%"
      ]
     },
     "metadata": {},
     "output_type": "display_data"
    },
    {
     "name": "stdout",
     "output_type": "stream",
     "text": [
      "\\begin{table}[t]\n",
      "\\small\n",
      "\\centering\n",
      "\\label{tab:datasets}\n",
      "\\begin{tabular}{lccc}\n",
      "\\toprule\n",
      "\\textbf{Aspect} & \\textbf{MIMIC-CXR} & \\textbf{OpenI} \\\\\n",
      "\\midrule\n",
      "Reports & 122,500/963/1,598 & 2,342/334/670 \\\\\n",
      "Avg. $|\\bm{x}|_{t}$ & 56 {\\color{gray} $\\pm$ 25.2} & 37 {\\color{gray} $\\pm$ 16.4} \\\\\n",
      "Avg. $|\\bm{x}|_{s}$ & 5.5 {\\color{gray} $\\pm$ 1.9} & 4.6 {\\color{gray} $\\pm$ 1.6} \\\\\n",
      "Avg. $|\\bm{y}|_{t}$ & 15 {\\color{gray} $\\pm$ 13.5} & 8 {\\color{gray} $\\pm$ 8.1} \\\\\n",
      "Avg. $|\\bm{y}|_{s}$ & 1.6 {\\color{gray} $\\pm$ 0.9} & 1.4 {\\color{gray} $\\pm$ 0.8} \\\\\n",
      "Novelty & 73.4\\% & 86.8\\% \\\\\n",
      "CMP & 73.8\\% & 76.1\\% \\\\\n",
      "\\bottomrule\n",
      "\\end{tabular}\n",
      "\\end{table}\n",
      "\n"
     ]
    }
   ],
   "source": [
    "display_names = {\n",
    "    'docs': 'Reports',\n",
    "    'n_words_doc': 'Avg. $|x|_{t}$',\n",
    "    'n_sents_doc': 'Avg. $|x|_{s}$',\n",
    "    'n_words_summary': 'Avg. $|y|_{t}$',\n",
    "    'n_sents_summary': 'Avg. $|y|_{s}$',\n",
    "    'novelty_bi': 'Novelty',\n",
    "    'cmp_w': 'CMP',\n",
    "}\n",
    "\n",
    "display_dataset = {\n",
    "    'mimic-official': 'MIMIC-CXR',\n",
    "    'openi': 'OpenI'\n",
    "}\n",
    "\n",
    "df_table = df_stats.copy()\n",
    "df_table['n'] = df_table['n'].astype(int).apply(lambda x: f'{x:,}')\n",
    "df_table['n_words_doc'] = df_table['n_words_doc'].astype(int).astype(str) + \" {\\color{gray} $\\pm$ \" + df_table['n_words_doc_std'].round(1).astype(str) + \"}\"\n",
    "df_table['n_sents_doc'] = df_table['n_sents_doc'].round(1).astype(str) + \" {\\color{gray} $\\pm$ \" + df_table['n_sents_doc_std'].round(1).astype(str) + \"}\"\n",
    "df_table['n_words_summary'] = df_table['n_words_summary'].astype(int).astype(str) + \" {\\color{gray} $\\pm$ \" + df_table['n_words_summary_std'].round(1).astype(str) + \"}\"\n",
    "df_table['n_sents_summary'] = df_table['n_sents_summary'].round(1).astype(str) + \" {\\color{gray} $\\pm$ \" + df_table['n_sents_summary_std'].round(1).astype(str) + \"}\"\n",
    "df_table['novelty_bi'] = df_table['novelty_bi'].round(1).apply(lambda s: f'{s}%')\n",
    "df_table['cmp_w'] = df_table['cmp_w'].round(1).apply(lambda s: f'{s}%')\n",
    "df_table = df_table[display_names.keys()]\n",
    "df_table = df_table.loc[display_dataset.keys()]\n",
    "df_table = df_table.astype(object)\n",
    "df_table = df_table.T\n",
    "df_table = df_table.rename(display_names)\n",
    "df_table = df_table.rename(display_dataset, axis=1)\n",
    "display(df_table)\n",
    "\n",
    "tex = df_table.to_latex(   \n",
    "    position='t',\n",
    "    column_format='lccc',\n",
    "    label='tab:datasets',\n",
    "    escape=False\n",
    ")\n",
    "\n",
    "tex = tex \\\n",
    "    .replace('{} &', r'\\textbf{Aspect} &') \\\n",
    "    .replace('MIMIC-CXR', r'\\textbf{MIMIC-CXR}') \\\n",
    "    .replace('OpenI', r'\\textbf{OpenI}') \\\n",
    "    .replace(r'\\centering', r'\\small' + '\\n' + '\\centering') \\\n",
    "    .replace(r'%', r'\\%') \\\n",
    "    .replace(r'|x|', r'|\\bm{x}|') \\\n",
    "    .replace(r'|y|', r'|\\bm{y}|')\n",
    "\n",
    "tex = re.sub(r' +', ' ', tex)\n",
    "\n",
    "print(tex)"
   ]
  },
  {
   "cell_type": "markdown",
   "id": "9ecc6129",
   "metadata": {},
   "source": [
    "### Caluclate statistics of error analysis sample"
   ]
  },
  {
   "cell_type": "code",
   "execution_count": 8,
   "id": "8dbc4710",
   "metadata": {},
   "outputs": [],
   "source": [
    "sample_ids = pd.read_json('../error-analysis/data/annotations.jsonl', lines=True)['study_id'].unique()"
   ]
  },
  {
   "cell_type": "code",
   "execution_count": 9,
   "id": "f2132354",
   "metadata": {},
   "outputs": [
    {
     "data": {
      "application/vnd.jupyter.widget-view+json": {
       "model_id": "016c615fc7cb4e55a842dc54195f0f10",
       "version_major": 2,
       "version_minor": 0
      },
      "text/plain": [
       "  0%|          | 0/1598 [00:00<?, ?it/s]"
      ]
     },
     "metadata": {},
     "output_type": "display_data"
    },
    {
     "data": {
      "text/html": [
       "<div>\n",
       "<style scoped>\n",
       "    .dataframe tbody tr th:only-of-type {\n",
       "        vertical-align: middle;\n",
       "    }\n",
       "\n",
       "    .dataframe tbody tr th {\n",
       "        vertical-align: top;\n",
       "    }\n",
       "\n",
       "    .dataframe thead th {\n",
       "        text-align: right;\n",
       "    }\n",
       "</style>\n",
       "<table border=\"1\" class=\"dataframe\">\n",
       "  <thead>\n",
       "    <tr style=\"text-align: right;\">\n",
       "      <th></th>\n",
       "      <th>n_words_doc</th>\n",
       "      <th>n_sents_doc</th>\n",
       "      <th>n_words_summary</th>\n",
       "      <th>n_sents_summary</th>\n",
       "      <th>cmp_w</th>\n",
       "      <th>cmp_s</th>\n",
       "      <th>novelty_uni</th>\n",
       "      <th>novelty_bi</th>\n",
       "      <th>n_words_doc_std</th>\n",
       "      <th>n_sents_doc_std</th>\n",
       "      <th>n_words_summary_std</th>\n",
       "      <th>n_sents_summary_std</th>\n",
       "      <th>cmp_w_std</th>\n",
       "      <th>cmp_s_std</th>\n",
       "      <th>novelty_uni_std</th>\n",
       "      <th>novelty_bi_std</th>\n",
       "      <th>n</th>\n",
       "    </tr>\n",
       "  </thead>\n",
       "  <tbody>\n",
       "    <tr>\n",
       "      <th>Test Set</th>\n",
       "      <td>70.981852</td>\n",
       "      <td>6.220275</td>\n",
       "      <td>19.770338</td>\n",
       "      <td>1.825407</td>\n",
       "      <td>71.925122</td>\n",
       "      <td>68.982011</td>\n",
       "      <td>42.101694</td>\n",
       "      <td>69.788209</td>\n",
       "      <td>27.419815</td>\n",
       "      <td>1.941290</td>\n",
       "      <td>15.188128</td>\n",
       "      <td>1.000403</td>\n",
       "      <td>0.179781</td>\n",
       "      <td>0.170151</td>\n",
       "      <td>0.252323</td>\n",
       "      <td>0.257535</td>\n",
       "      <td>1598.0</td>\n",
       "    </tr>\n",
       "    <tr>\n",
       "      <th>Error Analysis Sample</th>\n",
       "      <td>63.250000</td>\n",
       "      <td>5.740000</td>\n",
       "      <td>18.550000</td>\n",
       "      <td>1.730000</td>\n",
       "      <td>70.310152</td>\n",
       "      <td>68.242063</td>\n",
       "      <td>43.243260</td>\n",
       "      <td>69.703033</td>\n",
       "      <td>20.388834</td>\n",
       "      <td>1.586687</td>\n",
       "      <td>12.447364</td>\n",
       "      <td>0.897302</td>\n",
       "      <td>0.197809</td>\n",
       "      <td>0.181449</td>\n",
       "      <td>0.274547</td>\n",
       "      <td>0.270910</td>\n",
       "      <td>100.0</td>\n",
       "    </tr>\n",
       "  </tbody>\n",
       "</table>\n",
       "</div>"
      ],
      "text/plain": [
       "                       n_words_doc  n_sents_doc  n_words_summary  \\\n",
       "Test Set                 70.981852     6.220275        19.770338   \n",
       "Error Analysis Sample    63.250000     5.740000        18.550000   \n",
       "\n",
       "                       n_sents_summary      cmp_w      cmp_s  novelty_uni  \\\n",
       "Test Set                      1.825407  71.925122  68.982011    42.101694   \n",
       "Error Analysis Sample         1.730000  70.310152  68.242063    43.243260   \n",
       "\n",
       "                       novelty_bi  n_words_doc_std  n_sents_doc_std  \\\n",
       "Test Set                69.788209        27.419815         1.941290   \n",
       "Error Analysis Sample   69.703033        20.388834         1.586687   \n",
       "\n",
       "                       n_words_summary_std  n_sents_summary_std  cmp_w_std  \\\n",
       "Test Set                         15.188128             1.000403   0.179781   \n",
       "Error Analysis Sample            12.447364             0.897302   0.197809   \n",
       "\n",
       "                       cmp_s_std  novelty_uni_std  novelty_bi_std       n  \n",
       "Test Set                0.170151         0.252323        0.257535  1598.0  \n",
       "Error Analysis Sample   0.181449         0.274547        0.270910   100.0  "
      ]
     },
     "execution_count": 9,
     "metadata": {},
     "output_type": "execute_result"
    }
   ],
   "source": [
    "df = pd.read_json(\"../data/processed/mimic-official-unguided/reports.test.json\").assign(split='test')\n",
    "src = df['src'].apply(lambda sents: '<q>'.join((' '.join(sent) for sent in sents)))\n",
    "tgt = df['tgt'].apply(lambda sents: '<q>'.join((' '.join(sent) for sent in sents)))\n",
    "stats = calculate_statistics(tqdm(src), tgt)\n",
    "stats = stats.set_index(df['id'])\n",
    "\n",
    "full = stats.agg('mean')\n",
    "full = full.append(stats.agg('std').add_suffix('_std'))\n",
    "full['n'] = len(df)\n",
    "full = full.rename(f'Test Set')\n",
    "\n",
    "sample = stats.loc[sample_ids].agg('mean')\n",
    "sample = sample.append(stats.loc[sample_ids].agg('std').add_suffix('_std'))\n",
    "sample['n'] = len(sample_ids)\n",
    "sample = sample.rename(f'Error Analysis Sample')\n",
    "\n",
    "df_stats = pd.concat([full, sample], axis=1).T\n",
    "df_stats['novelty_uni'] = df_stats['novelty_uni'] * 100\n",
    "df_stats['novelty_bi'] = df_stats['novelty_bi'] * 100\n",
    "df_stats['cmp_w'] = df_stats['cmp_w'] * 100\n",
    "df_stats['cmp_s'] = df_stats['cmp_s'] * 100\n",
    "df_stats"
   ]
  },
  {
   "cell_type": "code",
   "execution_count": 10,
   "id": "5af7037d",
   "metadata": {},
   "outputs": [
    {
     "data": {
      "text/html": [
       "<div>\n",
       "<style scoped>\n",
       "    .dataframe tbody tr th:only-of-type {\n",
       "        vertical-align: middle;\n",
       "    }\n",
       "\n",
       "    .dataframe tbody tr th {\n",
       "        vertical-align: top;\n",
       "    }\n",
       "\n",
       "    .dataframe thead th {\n",
       "        text-align: right;\n",
       "    }\n",
       "</style>\n",
       "<table border=\"1\" class=\"dataframe\">\n",
       "  <thead>\n",
       "    <tr style=\"text-align: right;\">\n",
       "      <th></th>\n",
       "      <th>Test Set</th>\n",
       "      <th>Error Analysis Sample</th>\n",
       "    </tr>\n",
       "  </thead>\n",
       "  <tbody>\n",
       "    <tr>\n",
       "      <th>Reports</th>\n",
       "      <td>1,598</td>\n",
       "      <td>100</td>\n",
       "    </tr>\n",
       "    <tr>\n",
       "      <th>Avg. $|x|_{t}$</th>\n",
       "      <td>70 {\\color{gray} $\\pm$ 27.4}</td>\n",
       "      <td>63 {\\color{gray} $\\pm$ 20.4}</td>\n",
       "    </tr>\n",
       "    <tr>\n",
       "      <th>Avg. $|x|_{s}$</th>\n",
       "      <td>6.2 {\\color{gray} $\\pm$ 1.9}</td>\n",
       "      <td>5.7 {\\color{gray} $\\pm$ 1.6}</td>\n",
       "    </tr>\n",
       "    <tr>\n",
       "      <th>Avg. $|y|_{t}$</th>\n",
       "      <td>19 {\\color{gray} $\\pm$ 15.2}</td>\n",
       "      <td>18 {\\color{gray} $\\pm$ 12.4}</td>\n",
       "    </tr>\n",
       "    <tr>\n",
       "      <th>Avg. $|y|_{s}$</th>\n",
       "      <td>1.8 {\\color{gray} $\\pm$ 1.0}</td>\n",
       "      <td>1.7 {\\color{gray} $\\pm$ 0.9}</td>\n",
       "    </tr>\n",
       "    <tr>\n",
       "      <th>Novelty</th>\n",
       "      <td>69.8%</td>\n",
       "      <td>69.7%</td>\n",
       "    </tr>\n",
       "    <tr>\n",
       "      <th>CMP</th>\n",
       "      <td>71.9%</td>\n",
       "      <td>70.3%</td>\n",
       "    </tr>\n",
       "  </tbody>\n",
       "</table>\n",
       "</div>"
      ],
      "text/plain": [
       "                                    Test Set         Error Analysis Sample\n",
       "Reports                                1,598                           100\n",
       "Avg. $|x|_{t}$  70 {\\color{gray} $\\pm$ 27.4}  63 {\\color{gray} $\\pm$ 20.4}\n",
       "Avg. $|x|_{s}$  6.2 {\\color{gray} $\\pm$ 1.9}  5.7 {\\color{gray} $\\pm$ 1.6}\n",
       "Avg. $|y|_{t}$  19 {\\color{gray} $\\pm$ 15.2}  18 {\\color{gray} $\\pm$ 12.4}\n",
       "Avg. $|y|_{s}$  1.8 {\\color{gray} $\\pm$ 1.0}  1.7 {\\color{gray} $\\pm$ 0.9}\n",
       "Novelty                                69.8%                         69.7%\n",
       "CMP                                    71.9%                         70.3%"
      ]
     },
     "metadata": {},
     "output_type": "display_data"
    },
    {
     "name": "stdout",
     "output_type": "stream",
     "text": [
      "\\begin{table}[t]\n",
      "\\small\n",
      "\\centering\n",
      "\\label{tab:error-analysis-sample-statistics}\n",
      "\\begin{tabular}{lccc}\n",
      "\\toprule\n",
      "\\textbf{Aspect} & Test Set & Error Analysis Sample \\\\\n",
      "\\midrule\n",
      "Reports & 1,598 & 100 \\\\\n",
      "Avg. $|\\bm{x}|_{t}$ & 70 {\\color{gray} $\\pm$ 27.4} & 63 {\\color{gray} $\\pm$ 20.4} \\\\\n",
      "Avg. $|\\bm{x}|_{s}$ & 6.2 {\\color{gray} $\\pm$ 1.9} & 5.7 {\\color{gray} $\\pm$ 1.6} \\\\\n",
      "Avg. $|\\bm{y}|_{t}$ & 19 {\\color{gray} $\\pm$ 15.2} & 18 {\\color{gray} $\\pm$ 12.4} \\\\\n",
      "Avg. $|\\bm{y}|_{s}$ & 1.8 {\\color{gray} $\\pm$ 1.0} & 1.7 {\\color{gray} $\\pm$ 0.9} \\\\\n",
      "Novelty & 69.8\\% & 69.7\\% \\\\\n",
      "CMP & 71.9\\% & 70.3\\% \\\\\n",
      "\\bottomrule\n",
      "\\end{tabular}\n",
      "\\end{table}\n",
      "\n"
     ]
    }
   ],
   "source": [
    "display_names = {\n",
    "    'n': 'Reports',\n",
    "    'n_words_doc': 'Avg. $|x|_{t}$',\n",
    "    'n_sents_doc': 'Avg. $|x|_{s}$',\n",
    "    'n_words_summary': 'Avg. $|y|_{t}$',\n",
    "    'n_sents_summary': 'Avg. $|y|_{s}$',\n",
    "    'novelty_bi': 'Novelty',\n",
    "    'cmp_w': 'CMP',\n",
    "}\n",
    "\n",
    "df_table = df_stats.copy()\n",
    "df_table['n'] = df_table['n'].astype(int).apply(lambda x: f'{x:,}')\n",
    "df_table['n_words_doc'] = df_table['n_words_doc'].astype(int).astype(str) + \" {\\color{gray} $\\pm$ \" + df_table['n_words_doc_std'].round(1).astype(str) + \"}\"\n",
    "df_table['n_sents_doc'] = df_table['n_sents_doc'].round(1).astype(str) + \" {\\color{gray} $\\pm$ \" + df_table['n_sents_doc_std'].round(1).astype(str) + \"}\"\n",
    "df_table['n_words_summary'] = df_table['n_words_summary'].astype(int).astype(str) + \" {\\color{gray} $\\pm$ \" + df_table['n_words_summary_std'].round(1).astype(str) + \"}\"\n",
    "df_table['n_sents_summary'] = df_table['n_sents_summary'].round(1).astype(str) + \" {\\color{gray} $\\pm$ \" + df_table['n_sents_summary_std'].round(1).astype(str) + \"}\"\n",
    "df_table['novelty_bi'] = df_table['novelty_bi'].round(1).apply(lambda s: f'{s}%')\n",
    "df_table['cmp_w'] = df_table['cmp_w'].round(1).apply(lambda s: f'{s}%')\n",
    "df_table = df_table[display_names.keys()]\n",
    "df_table = df_table.astype(object)\n",
    "df_table = df_table.T\n",
    "df_table = df_table.rename(display_names)\n",
    "display(df_table)\n",
    "\n",
    "tex = df_table.to_latex(   \n",
    "    position='t',\n",
    "    column_format='lccc',\n",
    "    label='tab:error-analysis-sample-statistics',\n",
    "    escape=False\n",
    ")\n",
    "\n",
    "tex = tex \\\n",
    "    .replace('{} &', r'\\textbf{Aspect} &') \\\n",
    "    .replace('MIMIC-CXR', r'\\textbf{MIMIC-CXR}') \\\n",
    "    .replace('OpenI', r'\\textbf{OpenI}') \\\n",
    "    .replace(r'\\centering', r'\\small' + '\\n' + '\\centering') \\\n",
    "    .replace(r'%', r'\\%') \\\n",
    "    .replace(r'|x|', r'|\\bm{x}|') \\\n",
    "    .replace(r'|y|', r'|\\bm{y}|')\n",
    "\n",
    "tex = re.sub(r' +', ' ', tex)\n",
    "\n",
    "print(tex)"
   ]
  },
  {
   "cell_type": "markdown",
   "id": "339a5286",
   "metadata": {},
   "source": [
    "## Length distribution of OracleExt"
   ]
  },
  {
   "cell_type": "markdown",
   "id": "eaf453f5",
   "metadata": {},
   "source": [
    "Average length in sentences"
   ]
  },
  {
   "cell_type": "code",
   "execution_count": 14,
   "id": "3777ff04",
   "metadata": {},
   "outputs": [
    {
     "name": "stdout",
     "output_type": "stream",
     "text": [
      "1.3824264353110507\n",
      "1.4460558931712777\n",
      "1.3778285714285714\n",
      "1.4413061224489796\n",
      "1.0742954739538855\n",
      "1.1473099914602904\n"
     ]
    }
   ],
   "source": [
    "print(pd.read_json('../data/processed/mimic-oracle/reports.train.json')['z_ids'].apply(len).mean())\n",
    "print(pd.read_json('../data/processed/mimic-bg-oracle/reports.train.json')['z_ids'].apply(len).mean())\n",
    "print(pd.read_json('../data/processed/mimic-official-oracle/reports.train.json')['z_ids'].apply(len).mean())\n",
    "print(pd.read_json('../data/processed/mimic-official-bg-oracle/reports.train.json')['z_ids'].apply(len).mean())\n",
    "print(pd.read_json('../data/processed/openi-oracle/reports.train.json')['z_ids'].apply(len).mean())\n",
    "print(pd.read_json('../data/processed/openi-bg-oracle/reports.train.json')['z_ids'].apply(len).mean())"
   ]
  },
  {
   "cell_type": "markdown",
   "id": "b7a6b11a",
   "metadata": {},
   "source": [
    "Too short/too long as opposed to fixed length summaries."
   ]
  },
  {
   "cell_type": "code",
   "execution_count": 12,
   "id": "e2945d72",
   "metadata": {},
   "outputs": [],
   "source": [
    "def print_oracleext_distribution(df, split='train', k=1):   \n",
    "    oracle_stats = df['oracle_len'].value_counts(normalize=True)\n",
    "    oracle_stats = oracle_stats * 100\n",
    "    oracle_stats.index.name = 'Length (sents)'\n",
    "    oracle_stats.name = 'Reports (%)'\n",
    "\n",
    "    print(\n",
    "        'Percent of reports with OracleExt length of 0/1/2/3 sentences = ' \\\n",
    "        + '{:.0f}'.format(oracle_stats.loc[0]) \\\n",
    "        + '/' \\\n",
    "        + '{:.0f}'.format(oracle_stats.loc[1]) \\\n",
    "        + '/' \\\n",
    "        + '{:.0f}'.format(oracle_stats.loc[2]) \\\n",
    "        + '/' \\\n",
    "        + '{:.0f}'.format(oracle_stats.loc[3]) \\\n",
    "        + '%'\n",
    "    )\n",
    "\n",
    "    k = 1\n",
    "    too_short = oracle_stats.loc[oracle_stats.index > k].sum()\n",
    "    too_long = oracle_stats.loc[oracle_stats.index < k].sum()\n",
    "    print(f'Too short when k = {k}: {too_short:.0f}%')\n",
    "    print(f'Too long when k = {k}: {too_long:.0f}%')\n",
    "    display(oracle_stats.to_frame().round(2))"
   ]
  },
  {
   "cell_type": "code",
   "execution_count": 13,
   "id": "a38c2daf",
   "metadata": {},
   "outputs": [
    {
     "name": "stdout",
     "output_type": "stream",
     "text": [
      "Percent of reports with OracleExt length of 0/1/2/3 sentences = 2/52/32/14%\n",
      "Too short when k = 1: 46%\n",
      "Too long when k = 1: 2%\n"
     ]
    },
    {
     "data": {
      "text/html": [
       "<div>\n",
       "<style scoped>\n",
       "    .dataframe tbody tr th:only-of-type {\n",
       "        vertical-align: middle;\n",
       "    }\n",
       "\n",
       "    .dataframe tbody tr th {\n",
       "        vertical-align: top;\n",
       "    }\n",
       "\n",
       "    .dataframe thead th {\n",
       "        text-align: right;\n",
       "    }\n",
       "</style>\n",
       "<table border=\"1\" class=\"dataframe\">\n",
       "  <thead>\n",
       "    <tr style=\"text-align: right;\">\n",
       "      <th></th>\n",
       "      <th>Reports (%)</th>\n",
       "    </tr>\n",
       "    <tr>\n",
       "      <th>Length (sents)</th>\n",
       "      <th></th>\n",
       "    </tr>\n",
       "  </thead>\n",
       "  <tbody>\n",
       "    <tr>\n",
       "      <th>1</th>\n",
       "      <td>51.56</td>\n",
       "    </tr>\n",
       "    <tr>\n",
       "      <th>2</th>\n",
       "      <td>32.04</td>\n",
       "    </tr>\n",
       "    <tr>\n",
       "      <th>3</th>\n",
       "      <td>14.08</td>\n",
       "    </tr>\n",
       "    <tr>\n",
       "      <th>0</th>\n",
       "      <td>2.32</td>\n",
       "    </tr>\n",
       "  </tbody>\n",
       "</table>\n",
       "</div>"
      ],
      "text/plain": [
       "                Reports (%)\n",
       "Length (sents)             \n",
       "1                     51.56\n",
       "2                     32.04\n",
       "3                     14.08\n",
       "0                      2.32"
      ]
     },
     "metadata": {},
     "output_type": "display_data"
    }
   ],
   "source": [
    "df = pd.read_json('../data/processed/mimic-official-oracle/reports.test.json')\n",
    "df['oracle_len'] = df['z_ids'].apply(len)\n",
    "print_oracleext_distribution(df)"
   ]
  },
  {
   "cell_type": "code",
   "execution_count": 15,
   "id": "05ad1445",
   "metadata": {},
   "outputs": [
    {
     "name": "stdout",
     "output_type": "stream",
     "text": [
      "Percent of reports with OracleExt length of 0/1/2/3 sentences = 15/67/14/3%\n",
      "Too short when k = 1: 17%\n",
      "Too long when k = 1: 15%\n"
     ]
    },
    {
     "data": {
      "text/html": [
       "<div>\n",
       "<style scoped>\n",
       "    .dataframe tbody tr th:only-of-type {\n",
       "        vertical-align: middle;\n",
       "    }\n",
       "\n",
       "    .dataframe tbody tr th {\n",
       "        vertical-align: top;\n",
       "    }\n",
       "\n",
       "    .dataframe thead th {\n",
       "        text-align: right;\n",
       "    }\n",
       "</style>\n",
       "<table border=\"1\" class=\"dataframe\">\n",
       "  <thead>\n",
       "    <tr style=\"text-align: right;\">\n",
       "      <th></th>\n",
       "      <th>Reports (%)</th>\n",
       "    </tr>\n",
       "    <tr>\n",
       "      <th>Length (sents)</th>\n",
       "      <th></th>\n",
       "    </tr>\n",
       "  </thead>\n",
       "  <tbody>\n",
       "    <tr>\n",
       "      <th>1</th>\n",
       "      <td>67.16</td>\n",
       "    </tr>\n",
       "    <tr>\n",
       "      <th>0</th>\n",
       "      <td>15.37</td>\n",
       "    </tr>\n",
       "    <tr>\n",
       "      <th>2</th>\n",
       "      <td>14.18</td>\n",
       "    </tr>\n",
       "    <tr>\n",
       "      <th>3</th>\n",
       "      <td>3.28</td>\n",
       "    </tr>\n",
       "  </tbody>\n",
       "</table>\n",
       "</div>"
      ],
      "text/plain": [
       "                Reports (%)\n",
       "Length (sents)             \n",
       "1                     67.16\n",
       "0                     15.37\n",
       "2                     14.18\n",
       "3                      3.28"
      ]
     },
     "metadata": {},
     "output_type": "display_data"
    }
   ],
   "source": [
    "df = pd.read_json('../data/processed/openi-oracle/reports.test.json')\n",
    "df['oracle_len'] = df['z_ids'].apply(len)\n",
    "print_oracleext_distribution(df)"
   ]
  }
 ],
 "metadata": {
  "hide_input": false,
  "kernelspec": {
   "display_name": "Python 3 (ipykernel)",
   "language": "python",
   "name": "python3"
  },
  "language_info": {
   "codemirror_mode": {
    "name": "ipython",
    "version": 3
   },
   "file_extension": ".py",
   "mimetype": "text/x-python",
   "name": "python",
   "nbconvert_exporter": "python",
   "pygments_lexer": "ipython3",
   "version": "3.8.10"
  },
  "toc": {
   "base_numbering": 1,
   "nav_menu": {},
   "number_sections": true,
   "sideBar": true,
   "skip_h1_title": false,
   "title_cell": "Table of Contents",
   "title_sidebar": "Contents",
   "toc_cell": false,
   "toc_position": {
    "height": "calc(100% - 180px)",
    "left": "10px",
    "top": "150px",
    "width": "327px"
   },
   "toc_section_display": true,
   "toc_window_display": true
  }
 },
 "nbformat": 4,
 "nbformat_minor": 5
}
