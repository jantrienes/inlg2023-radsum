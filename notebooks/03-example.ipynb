{
 "cells": [
  {
   "cell_type": "markdown",
   "id": "21051aac",
   "metadata": {},
   "source": [
    "# Figure 1: Example Radiology Report"
   ]
  },
  {
   "cell_type": "code",
   "execution_count": 1,
   "id": "f6b227ea",
   "metadata": {},
   "outputs": [],
   "source": [
    "from pathlib import Path\n",
    "\n",
    "import pandas as pd\n",
    "\n",
    "from guidedsum.evaluation import load_summaries"
   ]
  },
  {
   "cell_type": "code",
   "execution_count": 2,
   "id": "3fe20eee",
   "metadata": {},
   "outputs": [],
   "source": [
    "def best_step(run_path):\n",
    "    run_path = Path(run_path)\n",
    "    try:\n",
    "        with open(run_path / 'model_step_best.txt') as fin:\n",
    "            return int(fin.read().strip())\n",
    "    except FileNotFoundError:\n",
    "        return -1"
   ]
  },
  {
   "cell_type": "code",
   "execution_count": 3,
   "id": "ac01bd33",
   "metadata": {},
   "outputs": [
    {
     "data": {
      "text/html": [
       "<div>\n",
       "<style scoped>\n",
       "    .dataframe tbody tr th:only-of-type {\n",
       "        vertical-align: middle;\n",
       "    }\n",
       "\n",
       "    .dataframe tbody tr th {\n",
       "        vertical-align: top;\n",
       "    }\n",
       "\n",
       "    .dataframe thead th {\n",
       "        text-align: right;\n",
       "    }\n",
       "</style>\n",
       "<table border=\"1\" class=\"dataframe\">\n",
       "  <thead>\n",
       "    <tr style=\"text-align: right;\">\n",
       "      <th></th>\n",
       "      <th>impression</th>\n",
       "      <th>findings</th>\n",
       "      <th>comparison</th>\n",
       "      <th>examination</th>\n",
       "      <th>history</th>\n",
       "      <th>technique</th>\n",
       "      <th>indication</th>\n",
       "      <th>id</th>\n",
       "      <th>findings+bg</th>\n",
       "      <th>chexpert_labels_findings</th>\n",
       "      <th>chexpert_labels_impression</th>\n",
       "      <th>bertabs</th>\n",
       "      <th>gsum_fixed</th>\n",
       "      <th>gsum_thresholding</th>\n",
       "    </tr>\n",
       "  </thead>\n",
       "  <tbody>\n",
       "    <tr>\n",
       "      <th>0</th>\n",
       "      <td>No evidence of acute cardiopulmonary process.</td>\n",
       "      <td>PA and lateral views of the chest are compared...</td>\n",
       "      <td></td>\n",
       "      <td></td>\n",
       "      <td>_-year-old male with cough and history of HIV....</td>\n",
       "      <td></td>\n",
       "      <td></td>\n",
       "      <td>50010466</td>\n",
       "      <td>History:\\n_-year-old male with cough and histo...</td>\n",
       "      <td>{'No Finding': None, 'Enlarged Cardiomediastin...</td>\n",
       "      <td>{'No Finding': 1.0, 'Enlarged Cardiomediastinu...</td>\n",
       "      <td>no acute cardiopulmonary process .</td>\n",
       "      <td>no acute cardiopulmonary process .</td>\n",
       "      <td>no acute cardiopulmonary process .</td>\n",
       "    </tr>\n",
       "    <tr>\n",
       "      <th>1</th>\n",
       "      <td>Vague bibasilar opacities, which may represent...</td>\n",
       "      <td>Frontal view of the chest was obtained. A righ...</td>\n",
       "      <td>Multiple prior chest radiographs, most recentl...</td>\n",
       "      <td></td>\n",
       "      <td></td>\n",
       "      <td></td>\n",
       "      <td>_-year-old male with HIV with shaking chills a...</td>\n",
       "      <td>50014127</td>\n",
       "      <td>Indication:\\n_-year-old male with HIV with sha...</td>\n",
       "      <td>{'No Finding': None, 'Enlarged Cardiomediastin...</td>\n",
       "      <td>{'No Finding': None, 'Enlarged Cardiomediastin...</td>\n",
       "      <td>vague bibasilar opacities are nonspecific but ...</td>\n",
       "      <td>vague bibasilar opacities are nonspecific but ...</td>\n",
       "      <td>vague bibasilar opacities are nonspecific but ...</td>\n",
       "    </tr>\n",
       "  </tbody>\n",
       "</table>\n",
       "</div>"
      ],
      "text/plain": [
       "                                          impression  \\\n",
       "0      No evidence of acute cardiopulmonary process.   \n",
       "1  Vague bibasilar opacities, which may represent...   \n",
       "\n",
       "                                            findings  \\\n",
       "0  PA and lateral views of the chest are compared...   \n",
       "1  Frontal view of the chest was obtained. A righ...   \n",
       "\n",
       "                                          comparison examination  \\\n",
       "0                                                                  \n",
       "1  Multiple prior chest radiographs, most recentl...               \n",
       "\n",
       "                                             history technique  \\\n",
       "0  _-year-old male with cough and history of HIV....             \n",
       "1                                                                \n",
       "\n",
       "                                          indication        id  \\\n",
       "0                                                     50010466   \n",
       "1  _-year-old male with HIV with shaking chills a...  50014127   \n",
       "\n",
       "                                         findings+bg  \\\n",
       "0  History:\\n_-year-old male with cough and histo...   \n",
       "1  Indication:\\n_-year-old male with HIV with sha...   \n",
       "\n",
       "                            chexpert_labels_findings  \\\n",
       "0  {'No Finding': None, 'Enlarged Cardiomediastin...   \n",
       "1  {'No Finding': None, 'Enlarged Cardiomediastin...   \n",
       "\n",
       "                          chexpert_labels_impression  \\\n",
       "0  {'No Finding': 1.0, 'Enlarged Cardiomediastinu...   \n",
       "1  {'No Finding': None, 'Enlarged Cardiomediastin...   \n",
       "\n",
       "                                             bertabs  \\\n",
       "0                 no acute cardiopulmonary process .   \n",
       "1  vague bibasilar opacities are nonspecific but ...   \n",
       "\n",
       "                                          gsum_fixed  \\\n",
       "0                 no acute cardiopulmonary process .   \n",
       "1  vague bibasilar opacities are nonspecific but ...   \n",
       "\n",
       "                                   gsum_thresholding  \n",
       "0                 no acute cardiopulmonary process .  \n",
       "1  vague bibasilar opacities are nonspecific but ...  "
      ]
     },
     "execution_count": 3,
     "metadata": {},
     "output_type": "execute_result"
    }
   ],
   "source": [
    "STEP_BERTABS = best_step(\"../output/mimic-official-unguided/bertabs-default/\")\n",
    "STEP_GSUM = best_step('../output/mimic-official-oracle/gsum-default/')\n",
    "\n",
    "runs = [\n",
    "    (\"../output/mimic-official-unguided/bertabs-default/\", STEP_BERTABS, \"bertabs\"),\n",
    "    (\"../output/mimic-official-bertext-default-clip-k1/gsum-default/\", STEP_GSUM, \"gsum_fixed\"),\n",
    "    (\"../output/mimic-official-bertext-default-clip-threshold/gsum-default/\", STEP_GSUM, \"gsum_thresholding\"),\n",
    "]\n",
    "\n",
    "\n",
    "candidates = []\n",
    "for run_path, step, name in runs:\n",
    "    df_summaries = load_summaries(run_path, step)\n",
    "    c = df_summaries['candidate'].rename(name)\n",
    "    candidates.append(c)\n",
    "       \n",
    "df_reports = pd.read_json(\"../data/processed/mimic-official/reports.test.json\")\n",
    "df_candidates = pd.concat(candidates, axis=1)\n",
    "\n",
    "df = pd.concat([df_reports, df_candidates], axis=1)\n",
    "df.head(2)"
   ]
  },
  {
   "cell_type": "code",
   "execution_count": 4,
   "id": "18f2ccc6",
   "metadata": {},
   "outputs": [
    {
     "name": "stdout",
     "output_type": "stream",
     "text": [
      "Technique:\n",
      "Chest, AP and lateral.\n",
      "\n",
      "Comparison:\n",
      "_ and _.\n",
      "\n",
      "History:\n",
      "Weakness and decreased blood sugar with leg swelling and tenderness.\n",
      "\n",
      "Findings:\n",
      "The patient is status post coronary artery bypass graft surgery and apparently mitral valve replacement. The heart is mildly enlarged. The mediastinal and hilar contours appear unchanged. There is a slight interstitial abnormality, suggestive of a state of very mild congestion, but no new focal opacity. A left-sided pleural effusion has resolved although mild scarring or atelectasis persists. Bones are probably demineralized.\n",
      "\n",
      "BertAbs (unguided)\n",
      "findings suggesting mild vascular congestion .\n",
      "\n",
      "GSum Fixed\n",
      "findings suggest mild vascular congestion .\n",
      "\n",
      "GSum Variabe\n",
      "findings suggest mild vascular congestion .<q>resolution of left - sided pleural effusion .\n"
     ]
    }
   ],
   "source": [
    "sample = df[df['id'] == 53203970].iloc[0]\n",
    "print(sample['findings+bg'])\n",
    "\n",
    "print('\\nBertAbs (unguided)')\n",
    "print(sample['bertabs'])\n",
    "\n",
    "print('\\nGSum Fixed')\n",
    "print(sample['gsum_fixed'])\n",
    "\n",
    "print('\\nGSum Variabe')\n",
    "print(sample['gsum_thresholding'])"
   ]
  },
  {
   "cell_type": "code",
   "execution_count": 5,
   "id": "1ec47ed2",
   "metadata": {},
   "outputs": [
    {
     "name": "stdout",
     "output_type": "stream",
     "text": [
      "[['There', 'is', 'a', 'slight', 'interstitial', 'abnormality', ',', 'suggestive', 'of', 'a', 'state', 'of', 'very', 'mild', 'congestion', ',', 'but', 'no', 'new', 'focal', 'opacity', '.']]\n"
     ]
    }
   ],
   "source": [
    "z_fixed = pd.read_json('../data/processed/mimic-official-bertext-default-clip-k1/reports.test.json')\n",
    "print(z_fixed[z_fixed['id'] == 53203970].iloc[0]['z'])"
   ]
  },
  {
   "cell_type": "code",
   "execution_count": 6,
   "id": "9d2b9d59",
   "metadata": {},
   "outputs": [
    {
     "name": "stdout",
     "output_type": "stream",
     "text": [
      "[['There', 'is', 'a', 'slight', 'interstitial', 'abnormality', ',', 'suggestive', 'of', 'a', 'state', 'of', 'very', 'mild', 'congestion', ',', 'but', 'no', 'new', 'focal', 'opacity', '.'], ['A', 'left', '-', 'sided', 'pleural', 'effusion', 'has', 'resolved', 'although', 'mild', 'scarring', 'or', 'atelectasis', 'persists', '.']]\n"
     ]
    }
   ],
   "source": [
    "z_variable = pd.read_json('../data/processed/mimic-official-bertext-default-clip-threshold/reports.test.json')\n",
    "print(z_variable[z_variable['id'] == 53203970].iloc[0]['z'])"
   ]
  }
 ],
 "metadata": {
  "hide_input": false,
  "kernelspec": {
   "display_name": "Python 3 (ipykernel)",
   "language": "python",
   "name": "python3"
  },
  "language_info": {
   "codemirror_mode": {
    "name": "ipython",
    "version": 3
   },
   "file_extension": ".py",
   "mimetype": "text/x-python",
   "name": "python",
   "nbconvert_exporter": "python",
   "pygments_lexer": "ipython3",
   "version": "3.8.10"
  },
  "toc": {
   "base_numbering": 1,
   "nav_menu": {},
   "number_sections": true,
   "sideBar": true,
   "skip_h1_title": false,
   "title_cell": "Table of Contents",
   "title_sidebar": "Contents",
   "toc_cell": false,
   "toc_position": {},
   "toc_section_display": true,
   "toc_window_display": false
  }
 },
 "nbformat": 4,
 "nbformat_minor": 5
}
